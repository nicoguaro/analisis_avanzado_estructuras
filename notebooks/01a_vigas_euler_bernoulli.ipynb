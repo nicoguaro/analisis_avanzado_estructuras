{
 "cells": [
  {
   "cell_type": "markdown",
   "metadata": {},
   "source": [
    "# Soluciones para vigas de Euler-Bernoulli usando SymPy\n"
   ]
  },
  {
   "cell_type": "markdown",
   "metadata": {},
   "source": [
    "La ecuación de Euler-Bernoulli describe la relación entre la deflexión de la viga y la carga aplicada\n",
    "\n",
    "$$\\frac{d^2}{dx^2}\\left(EI\\frac{d^2w}{dx^2}\\right) = q \\, .$$\n",
    "\n",
    "La curva $w(x)$ describe la deflexión de la viga en algún punto $x$, donde $q$ es una carga distribuida.\n",
    "\n",
    "Esta ecuación no puede resolverse en esta forma en Sympy. Sin embargo, podemos \"engañar\" al programa\n",
    "para que lo haga por nosotros. Vamos a reescribir la ecuación como dos ecuaciones\n",
    "\n",
    "$$\\begin{align}\n",
    "&-\\frac{d^2 M}{dx^2} = q \\enspace ,\\\\\n",
    "&- \\frac{d^2w}{dx^2} = \\frac{M}{EI} \\enspace ,\n",
    "\\end{align}$$\n",
    "\n",
    "donde $M$ es el momento flector en la viga. Luego, podemos resolver las dos ecuaciones como si\n",
    "tuvieran términos fuente y luego acoplar las dos soluciones.\n",
    "\n",
    "El siguiente código realiza esto\n"
   ]
  },
  {
   "cell_type": "code",
   "execution_count": null,
   "metadata": {},
   "outputs": [],
   "source": [
    "if 'google.colab' in str(get_ipython()):\n",
    "    %pip install ipympl\n",
    "    from google.colab import output\n",
    "    output.enable_custom_widget_manager()"
   ]
  },
  {
   "cell_type": "code",
   "execution_count": 1,
   "metadata": {},
   "outputs": [],
   "source": [
    "%matplotlib widget"
   ]
  },
  {
   "cell_type": "code",
   "execution_count": 2,
   "metadata": {},
   "outputs": [],
   "source": [
    "from sympy import *"
   ]
  },
  {
   "cell_type": "code",
   "execution_count": 3,
   "metadata": {},
   "outputs": [],
   "source": [
    "init_printing()"
   ]
  },
  {
   "cell_type": "code",
   "execution_count": 4,
   "metadata": {},
   "outputs": [],
   "source": [
    "x = symbols('x')\n",
    "E, I = symbols('E I', positive=True)\n",
    "C1, C2, C3, C4 = symbols('C1 C2 C3 C4')\n",
    "w, M, q, f = symbols('w M q f', cls=Function)\n",
    "EI = symbols('EI', cls=Function, nonnegative=True)"
   ]
  },
  {
   "cell_type": "code",
   "execution_count": 5,
   "metadata": {
    "scrolled": true
   },
   "outputs": [
    {
     "data": {
      "image/png": "[encoded data removed]",
      "text/latex": [
       "$\\displaystyle - q{\\left(x \\right)} - \\frac{d^{2}}{d x^{2}} M{\\left(x \\right)}$"
      ],
      "text/plain": [
       "          2      \n",
       "         d       \n",
       "-q(x) - ───(M(x))\n",
       "          2      \n",
       "        dx       "
      ]
     },
     "execution_count": 5,
     "metadata": {},
     "output_type": "execute_result"
    }
   ],
   "source": [
    "M_eq = -diff(M(x), x, 2) - q(x)\n",
    "\n",
    "M_eq"
   ]
  },
  {
   "cell_type": "code",
   "execution_count": 6,
   "metadata": {},
   "outputs": [
    {
     "data": {
      "image/png": "[encoded data removed]",
      "text/latex": [
       "$\\displaystyle C_{3} + x \\left(C_{4} - \\int q{\\left(x \\right)}\\, dx\\right) + \\int x q{\\left(x \\right)}\\, dx$"
      ],
      "text/plain": [
       "       ⎛     ⌠        ⎞   ⌠          \n",
       "C₃ + x⋅⎜C₄ - ⎮ q(x) dx⎟ + ⎮ x⋅q(x) dx\n",
       "       ⎝     ⌡        ⎠   ⌡          "
      ]
     },
     "execution_count": 6,
     "metadata": {},
     "output_type": "execute_result"
    }
   ],
   "source": [
    "M_sol = dsolve(M_eq, M(x)).rhs.subs([(C1, C3), (C2, C4)])\n",
    "\n",
    "M_sol"
   ]
  },
  {
   "cell_type": "code",
   "execution_count": 7,
   "metadata": {},
   "outputs": [
    {
     "data": {
      "image/png": "[encoded data removed]",
      "text/latex": [
       "$\\displaystyle f{\\left(x \\right)} + \\frac{d^{2}}{d x^{2}} w{\\left(x \\right)}$"
      ],
      "text/plain": [
       "         2      \n",
       "        d       \n",
       "f(x) + ───(w(x))\n",
       "         2      \n",
       "       dx       "
      ]
     },
     "execution_count": 7,
     "metadata": {},
     "output_type": "execute_result"
    }
   ],
   "source": [
    "w_eq = f(x) + diff(w(x),x,2)\n",
    "w_eq"
   ]
  },
  {
   "cell_type": "code",
   "execution_count": 8,
   "metadata": {},
   "outputs": [
    {
     "data": {
      "image/png": "[encoded data removed]",
      "text/latex": [
       "$\\displaystyle C_{1} + x \\left(C_{2} - \\int \\frac{C_{3} + x \\left(C_{4} - \\int q{\\left(x \\right)}\\, dx\\right) + \\int x q{\\left(x \\right)}\\, dx}{\\operatorname{EI}{\\left(x \\right)}}\\, dx\\right) + \\int \\frac{x \\left(C_{3} + x \\left(C_{4} - \\int q{\\left(x \\right)}\\, dx\\right) + \\int x q{\\left(x \\right)}\\, dx\\right)}{\\operatorname{EI}{\\left(x \\right)}}\\, dx$"
      ],
      "text/plain": [
       "       ⎛     ⌠                                         ⎞   ⌠                  \n",
       "       ⎜     ⎮        ⎛     ⌠        ⎞   ⌠             ⎟   ⎮   ⎛       ⎛     ⌠\n",
       "       ⎜     ⎮ C₃ + x⋅⎜C₄ - ⎮ q(x) dx⎟ + ⎮ x⋅q(x) dx   ⎟   ⎮ x⋅⎜C₃ + x⋅⎜C₄ - ⎮\n",
       "       ⎜     ⎮        ⎝     ⌡        ⎠   ⌡             ⎟   ⎮   ⎝       ⎝     ⌡\n",
       "C₁ + x⋅⎜C₂ - ⎮ ───────────────────────────────────── dx⎟ + ⎮ ─────────────────\n",
       "       ⎜     ⎮                 EI(x)                   ⎟   ⎮                  \n",
       "       ⎝     ⌡                                         ⎠   ⌡                  \n",
       "\n",
       "                           \n",
       "        ⎞   ⌠          ⎞   \n",
       " q(x) dx⎟ + ⎮ x⋅q(x) dx⎟   \n",
       "        ⎠   ⌡          ⎠   \n",
       "──────────────────────── dx\n",
       " EI(x)                     \n",
       "                           "
      ]
     },
     "execution_count": 8,
     "metadata": {},
     "output_type": "execute_result"
    }
   ],
   "source": [
    "w_sol = dsolve(w_eq, w(x)).subs(f(x), M_sol/EI(x)).rhs\n",
    "\n",
    "w_sol"
   ]
  },
  {
   "cell_type": "markdown",
   "metadata": {},
   "source": [
    "Queremos estar seguros de que esta solución sea correcta. Reemplazamos los valores\n",
    "conocidos para $E$, $I$ y $q$ para verificarlo."
   ]
  },
  {
   "cell_type": "code",
   "execution_count": 9,
   "metadata": {},
   "outputs": [
    {
     "data": {
      "image/png": "[encoded data removed]",
      "text/latex": [
       "$\\displaystyle C_{1} + C_{2} x - x \\int \\frac{C_{3}}{\\operatorname{EI}{\\left(x \\right)}}\\, dx - x \\int \\frac{\\int x q{\\left(x \\right)}\\, dx}{\\operatorname{EI}{\\left(x \\right)}}\\, dx - x \\int \\frac{C_{4} x}{\\operatorname{EI}{\\left(x \\right)}}\\, dx - x \\int \\left(- \\frac{x \\int q{\\left(x \\right)}\\, dx}{\\operatorname{EI}{\\left(x \\right)}}\\right)\\, dx + \\int \\frac{C_{3} x}{\\operatorname{EI}{\\left(x \\right)}}\\, dx + \\int \\frac{C_{4} x^{2}}{\\operatorname{EI}{\\left(x \\right)}}\\, dx + \\int \\frac{x \\int x q{\\left(x \\right)}\\, dx}{\\operatorname{EI}{\\left(x \\right)}}\\, dx + \\int \\left(- \\frac{x^{2} \\int q{\\left(x \\right)}\\, dx}{\\operatorname{EI}{\\left(x \\right)}}\\right)\\, dx$"
      ],
      "text/plain": [
       "                             ⌠                                   ⌠            \n",
       "                             ⎮ ⌠                                 ⎮    ⌠       \n",
       "              ⌠              ⎮ ⎮ x⋅q(x) dx        ⌠              ⎮ -x⋅⎮ q(x) d\n",
       "              ⎮   C₃         ⎮ ⌡                  ⎮  C₄⋅x        ⎮    ⌡       \n",
       "C₁ + C₂⋅x - x⋅⎮ ───── dx - x⋅⎮ ─────────── dx - x⋅⎮ ───── dx - x⋅⎮ ───────────\n",
       "              ⎮ EI(x)        ⎮    EI(x)           ⎮ EI(x)        ⎮     EI(x)  \n",
       "              ⌡              ⌡                    ⌡              ⌡            \n",
       "\n",
       "                                  ⌠                    ⌠                  \n",
       "                     ⌠            ⎮   ⌠                ⎮   2 ⌠            \n",
       "x       ⌠            ⎮     2      ⎮ x⋅⎮ x⋅q(x) dx      ⎮ -x ⋅⎮ q(x) dx    \n",
       "        ⎮  C₃⋅x      ⎮ C₄⋅x       ⎮   ⌡                ⎮     ⌡            \n",
       "── dx + ⎮ ───── dx + ⎮ ───── dx + ⎮ ───────────── dx + ⎮ ────────────── dx\n",
       "        ⎮ EI(x)      ⎮ EI(x)      ⎮     EI(x)          ⎮     EI(x)        \n",
       "        ⌡            ⌡            ⌡                    ⌡                  "
      ]
     },
     "execution_count": 9,
     "metadata": {},
     "output_type": "execute_result"
    }
   ],
   "source": [
    "expand(w_sol)"
   ]
  },
  {
   "cell_type": "markdown",
   "metadata": {},
   "source": [
    "## Viga en voladizo con carga en la punta"
   ]
  },
  {
   "cell_type": "code",
   "execution_count": 10,
   "metadata": {},
   "outputs": [],
   "source": [
    "sub_list = [(q(x), 0), (EI(x), E*I)]\n",
    "w_sol1 = w_sol.subs(sub_list).doit()"
   ]
  },
  {
   "cell_type": "code",
   "execution_count": 11,
   "metadata": {},
   "outputs": [],
   "source": [
    "L, P = symbols('L P')\n",
    "\n",
    "# Extremo fijo\n",
    "bc_eq1 = w_sol1.subs(x, 0)\n",
    "bc_eq2 = diff(w_sol1, x).subs(x, 0)\n",
    "\n",
    "# Extremo libre\n",
    "bc_eq3 = diff(w_sol1, x, 2).subs(x, L)\n",
    "bc_eq4 = diff(w_sol1, x, 3).subs(x, L) + P/(E*I)"
   ]
  },
  {
   "cell_type": "code",
   "execution_count": 12,
   "metadata": {},
   "outputs": [
    {
     "data": {
      "image/png": "[encoded data removed]",
      "text/latex": [
       "$\\displaystyle \\left[ C_{1}, \\  C_{2}, \\  - \\frac{C_{3} + C_{4} L}{E I}, \\  - \\frac{C_{4}}{E I} + \\frac{P}{E I}\\right]$"
      ],
      "text/plain": [
       "⎡        -(C₃ + C₄⋅L)      C₄    P ⎤\n",
       "⎢C₁, C₂, ─────────────, - ─── + ───⎥\n",
       "⎣             E⋅I         E⋅I   E⋅I⎦"
      ]
     },
     "execution_count": 12,
     "metadata": {},
     "output_type": "execute_result"
    }
   ],
   "source": [
    "[bc_eq1, bc_eq2, bc_eq3, bc_eq4]"
   ]
  },
  {
   "cell_type": "code",
   "execution_count": 13,
   "metadata": {},
   "outputs": [
    {
     "data": {
      "image/png": "[encoded data removed]",
      "text/latex": [
       "$\\displaystyle \\left\\{ C_{1} : 0, \\  C_{2} : 0, \\  C_{3} : - L P, \\  C_{4} : P\\right\\}$"
      ],
      "text/plain": [
       "{C₁: 0, C₂: 0, C₃: -L⋅P, C₄: P}"
      ]
     },
     "execution_count": 13,
     "metadata": {},
     "output_type": "execute_result"
    }
   ],
   "source": [
    "constants = solve([bc_eq1, bc_eq2, bc_eq3, bc_eq4], [C1, C2, C3, C4])\n",
    "constants"
   ]
  },
  {
   "cell_type": "code",
   "execution_count": 14,
   "metadata": {},
   "outputs": [
    {
     "data": {
      "image/png": "[encoded data removed]",
      "text/latex": [
       "$\\displaystyle \\frac{P x^{2} \\left(3 L - x\\right)}{6 E I}$"
      ],
      "text/plain": [
       "   2          \n",
       "P⋅x ⋅(3⋅L - x)\n",
       "──────────────\n",
       "    6⋅E⋅I     "
      ]
     },
     "execution_count": 14,
     "metadata": {},
     "output_type": "execute_result"
    }
   ],
   "source": [
    "w_sol1.subs(constants).simplify()"
   ]
  },
  {
   "cell_type": "markdown",
   "metadata": {},
   "source": [
    "## Viga en voladizo con carga uniformemente distribuida"
   ]
  },
  {
   "cell_type": "code",
   "execution_count": 15,
   "metadata": {},
   "outputs": [],
   "source": [
    "Q = symbols(\"Q\")\n",
    "sub_list = [(q(x), Q), (EI(x), E*I)]\n",
    "w_sol1 = w_sol.subs(sub_list).doit()"
   ]
  },
  {
   "cell_type": "code",
   "execution_count": 16,
   "metadata": {},
   "outputs": [],
   "source": [
    "L = symbols('L')\n",
    "\n",
    "# Extremo fijo\n",
    "bc_eq1 = w_sol1.subs(x, 0)\n",
    "bc_eq2 = diff(w_sol1, x).subs(x, 0)\n",
    "\n",
    "# Extremo libre\n",
    "bc_eq3 = diff(w_sol1, x, 2).subs(x, L)\n",
    "bc_eq4 = diff(w_sol1, x, 3).subs(x, L)"
   ]
  },
  {
   "cell_type": "code",
   "execution_count": 17,
   "metadata": {},
   "outputs": [],
   "source": [
    "constants = solve([bc_eq1, bc_eq2, bc_eq3, bc_eq4], [C1, C2, C3, C4])"
   ]
  },
  {
   "cell_type": "code",
   "execution_count": 18,
   "metadata": {
    "scrolled": true
   },
   "outputs": [
    {
     "data": {
      "image/png": "[encoded data removed]",
      "text/latex": [
       "$\\displaystyle \\frac{Q x^{2} \\left(6 L^{2} - 4 L x + x^{2}\\right)}{24 E I}$"
      ],
      "text/plain": [
       "   2 ⎛   2            2⎞\n",
       "Q⋅x ⋅⎝6⋅L  - 4⋅L⋅x + x ⎠\n",
       "────────────────────────\n",
       "         24⋅E⋅I         "
      ]
     },
     "execution_count": 18,
     "metadata": {},
     "output_type": "execute_result"
    }
   ],
   "source": [
    "w_sol1.subs(constants).simplify()"
   ]
  },
  {
   "cell_type": "markdown",
   "metadata": {},
   "source": [
    "## Viga en voladiczo con carga exponencial"
   ]
  },
  {
   "cell_type": "code",
   "execution_count": 19,
   "metadata": {},
   "outputs": [],
   "source": [
    "A = symbols(\"A\")\n",
    "sub_list = [(q(x), A*exp(x)), (EI(x), E*I)]\n",
    "w_sol1 = w_sol.subs(sub_list).doit()"
   ]
  },
  {
   "cell_type": "code",
   "execution_count": 20,
   "metadata": {},
   "outputs": [],
   "source": [
    "L = symbols('L')\n",
    "\n",
    "# Extremo fijo\n",
    "bc_eq1 = w_sol1.subs(x, 0)\n",
    "bc_eq2 = diff(w_sol1, x).subs(x, 0)\n",
    "\n",
    "# Extremo libre\n",
    "bc_eq3 = diff(w_sol1, x, 2).subs(x, L)\n",
    "bc_eq4 = diff(w_sol1, x, 3).subs(x, L)"
   ]
  },
  {
   "cell_type": "code",
   "execution_count": 21,
   "metadata": {},
   "outputs": [],
   "source": [
    "constants = solve([bc_eq1, bc_eq2, bc_eq3, bc_eq4], [C1, C2, C3, C4])"
   ]
  },
  {
   "cell_type": "code",
   "execution_count": 22,
   "metadata": {},
   "outputs": [
    {
     "data": {
      "image/png": "[encoded data removed]",
      "text/latex": [
       "$\\displaystyle \\frac{A \\left(3 L x^{2} e^{L} - x^{3} e^{L} - 3 x^{2} e^{L} - 6 x + 6 e^{x} - 6\\right)}{6 E I}$"
      ],
      "text/plain": [
       "  ⎛     2  L    3  L      2  L            x    ⎞\n",
       "A⋅⎝3⋅L⋅x ⋅ℯ  - x ⋅ℯ  - 3⋅x ⋅ℯ  - 6⋅x + 6⋅ℯ  - 6⎠\n",
       "────────────────────────────────────────────────\n",
       "                     6⋅E⋅I                      "
      ]
     },
     "execution_count": 22,
     "metadata": {},
     "output_type": "execute_result"
    }
   ],
   "source": [
    "w_sol1.subs(constants).simplify()"
   ]
  },
  {
   "cell_type": "markdown",
   "metadata": {},
   "source": [
    "## Carga uniforme y sección variable"
   ]
  },
  {
   "cell_type": "code",
   "execution_count": 23,
   "metadata": {},
   "outputs": [],
   "source": [
    "Q, alpha = symbols(\"Q alpha\")\n",
    "sub_list = [(q(x), Q), (EI(x), E*(x + 1)/alpha)]\n",
    "w_sol1 = w_sol.subs(sub_list).doit()"
   ]
  },
  {
   "cell_type": "code",
   "execution_count": 24,
   "metadata": {},
   "outputs": [
    {
     "data": {
      "image/png": "[encoded data removed]",
      "text/latex": [
       "$\\displaystyle - Q - \\frac{d^{2}}{d x^{2}} M{\\left(x \\right)}$"
      ],
      "text/plain": [
       "       2      \n",
       "      d       \n",
       "-Q - ───(M(x))\n",
       "       2      \n",
       "     dx       "
      ]
     },
     "execution_count": 24,
     "metadata": {},
     "output_type": "execute_result"
    }
   ],
   "source": [
    "M_eq = -diff(M(x), x, 2) - Q\n",
    "\n",
    "M_eq"
   ]
  },
  {
   "cell_type": "code",
   "execution_count": 25,
   "metadata": {},
   "outputs": [
    {
     "data": {
      "image/png": "[encoded data removed]",
      "text/latex": [
       "$\\displaystyle C_{3} + C_{4} x - \\frac{Q x^{2}}{2}$"
      ],
      "text/plain": [
       "               2\n",
       "            Q⋅x \n",
       "C₃ + C₄⋅x - ────\n",
       "             2  "
      ]
     },
     "execution_count": 25,
     "metadata": {},
     "output_type": "execute_result"
    }
   ],
   "source": [
    "M_sol = dsolve(M_eq, M(x)).rhs.subs([(C1, C3), (C2, C4)])\n",
    "\n",
    "M_sol"
   ]
  },
  {
   "cell_type": "code",
   "execution_count": 26,
   "metadata": {},
   "outputs": [
    {
     "data": {
      "image/png": "[encoded data removed]",
      "text/latex": [
       "$\\displaystyle f{\\left(x \\right)} + \\frac{d^{2}}{d x^{2}} w{\\left(x \\right)}$"
      ],
      "text/plain": [
       "         2      \n",
       "        d       \n",
       "f(x) + ───(w(x))\n",
       "         2      \n",
       "       dx       "
      ]
     },
     "execution_count": 26,
     "metadata": {},
     "output_type": "execute_result"
    }
   ],
   "source": [
    "w_eq = f(x) + diff(w(x),x,2)\n",
    "w_eq"
   ]
  },
  {
   "cell_type": "code",
   "execution_count": 27,
   "metadata": {},
   "outputs": [
    {
     "data": {
      "image/png": "[encoded data removed]",
      "text/latex": [
       "$\\displaystyle f{\\left(x \\right)} + \\frac{d^{2}}{d x^{2}} w{\\left(x \\right)}$"
      ],
      "text/plain": [
       "         2      \n",
       "        d       \n",
       "f(x) + ───(w(x))\n",
       "         2      \n",
       "       dx       "
      ]
     },
     "execution_count": 27,
     "metadata": {},
     "output_type": "execute_result"
    }
   ],
   "source": [
    "w_eq"
   ]
  },
  {
   "cell_type": "code",
   "execution_count": 28,
   "metadata": {},
   "outputs": [],
   "source": [
    "L = symbols('L')\n",
    "\n",
    "w_sol1 = dsolve(w_eq, w(x)).subs(f(x), M_sol/E*(2*L - x)/alpha).rhs\n",
    "\n",
    "w_sol1 = w_sol1.doit()"
   ]
  },
  {
   "cell_type": "code",
   "execution_count": 29,
   "metadata": {},
   "outputs": [
    {
     "data": {
      "image/png": "[encoded data removed]",
      "text/latex": [
       "$\\displaystyle C_{1} + C_{2} x - \\frac{C_{3} L x^{2}}{E \\alpha} + \\frac{C_{3} x^{3}}{6 E \\alpha} - \\frac{C_{4} L x^{3}}{3 E \\alpha} + \\frac{C_{4} x^{4}}{12 E \\alpha} + \\frac{L Q x^{4}}{12 E \\alpha} - \\frac{Q x^{5}}{40 E \\alpha}$"
      ],
      "text/plain": [
       "                  2       3         3       4         4       5 \n",
       "            C₃⋅L⋅x    C₃⋅x    C₄⋅L⋅x    C₄⋅x     L⋅Q⋅x     Q⋅x  \n",
       "C₁ + C₂⋅x - ─────── + ───── - ─────── + ────── + ────── - ──────\n",
       "              E⋅α     6⋅E⋅α    3⋅E⋅α    12⋅E⋅α   12⋅E⋅α   40⋅E⋅α"
      ]
     },
     "execution_count": 29,
     "metadata": {},
     "output_type": "execute_result"
    }
   ],
   "source": [
    "expand(w_sol1)"
   ]
  },
  {
   "cell_type": "code",
   "execution_count": 30,
   "metadata": {},
   "outputs": [],
   "source": [
    "# Extremo fijo\n",
    "bc_eq1 = w_sol1.subs(x, 0)\n",
    "bc_eq2 = diff(w_sol1, x).subs(x, 0)\n",
    "\n",
    "# Extremo libre\n",
    "bc_eq3 = diff(w_sol1, x, 2).subs(x, L)\n",
    "bc_eq4 = diff(w_sol1, x, 3).subs(x, L)"
   ]
  },
  {
   "cell_type": "code",
   "execution_count": 31,
   "metadata": {},
   "outputs": [],
   "source": [
    "constants = solve([bc_eq1, bc_eq2, bc_eq3], [C1, C2, C3, C4])"
   ]
  },
  {
   "cell_type": "code",
   "execution_count": 32,
   "metadata": {},
   "outputs": [
    {
     "data": {
      "image/png": "[encoded data removed]",
      "text/latex": [
       "$\\displaystyle \\frac{Q x^{2} \\left(- 60 L^{3} + 10 L^{2} x + 10 L x^{2} - 3 x^{3}\\right)}{120 E \\alpha}$"
      ],
      "text/plain": [
       "   2 ⎛      3       2           2      3⎞\n",
       "Q⋅x ⋅⎝- 60⋅L  + 10⋅L ⋅x + 10⋅L⋅x  - 3⋅x ⎠\n",
       "─────────────────────────────────────────\n",
       "                 120⋅E⋅α                 "
      ]
     },
     "execution_count": 32,
     "metadata": {},
     "output_type": "execute_result"
    }
   ],
   "source": [
    "simplify(w_sol1.subs(constants).subs(C4, 0))"
   ]
  },
  {
   "cell_type": "markdown",
   "metadata": {},
   "source": [
    "El momento en cada punto estaría dado por"
   ]
  },
  {
   "cell_type": "code",
   "execution_count": 33,
   "metadata": {},
   "outputs": [
    {
     "data": {
      "image/png": "[encoded data removed]",
      "text/latex": [
       "$\\displaystyle - \\frac{Q \\left(x + 1\\right) \\left(- L^{3} - L x^{2} + x^{3} + \\frac{x \\left(L^{2} + 4 L x - 3 x^{2}\\right)}{2}\\right)}{\\alpha^{2}}$"
      ],
      "text/plain": [
       "           ⎛                     ⎛ 2              2⎞⎞ \n",
       "           ⎜   3      2    3   x⋅⎝L  + 4⋅L⋅x - 3⋅x ⎠⎟ \n",
       "-Q⋅(x + 1)⋅⎜- L  - L⋅x  + x  + ─────────────────────⎟ \n",
       "           ⎝                             2          ⎠ \n",
       "──────────────────────────────────────────────────────\n",
       "                           2                          \n",
       "                          α                           "
      ]
     },
     "execution_count": 33,
     "metadata": {},
     "output_type": "execute_result"
    }
   ],
   "source": [
    "M = -E*(x + 1)/alpha*diff(w_sol1.subs(constants).subs(C4, 0), x, 2)\n",
    "M"
   ]
  },
  {
   "cell_type": "markdown",
   "metadata": {},
   "source": [
    "Y la fuerza de corte"
   ]
  },
  {
   "cell_type": "code",
   "execution_count": 34,
   "metadata": {},
   "outputs": [
    {
     "data": {
      "image/png": "[encoded data removed]",
      "text/latex": [
       "$\\displaystyle - \\frac{Q \\left(x + 1\\right) \\left(\\frac{L^{2}}{2} + \\frac{3 x^{2}}{2} + \\frac{x \\left(4 L - 6 x\\right)}{2}\\right)}{\\alpha^{2}} - \\frac{Q \\left(- L^{3} - L x^{2} + x^{3} + \\frac{x \\left(L^{2} + 4 L x - 3 x^{2}\\right)}{2}\\right)}{\\alpha^{2}}$"
      ],
      "text/plain": [
       "            ⎛ 2      2                ⎞     ⎛                     ⎛ 2         \n",
       "            ⎜L    3⋅x    x⋅(4⋅L - 6⋅x)⎟     ⎜   3      2    3   x⋅⎝L  + 4⋅L⋅x \n",
       "  Q⋅(x + 1)⋅⎜── + ──── + ─────────────⎟   Q⋅⎜- L  - L⋅x  + x  + ──────────────\n",
       "            ⎝2     2           2      ⎠     ⎝                             2   \n",
       "- ───────────────────────────────────── - ────────────────────────────────────\n",
       "                     2                                          2             \n",
       "                    α                                          α              \n",
       "\n",
       "     2⎞⎞\n",
       "- 3⋅x ⎠⎟\n",
       "───────⎟\n",
       "       ⎠\n",
       "────────\n",
       "        \n",
       "        "
      ]
     },
     "execution_count": 34,
     "metadata": {},
     "output_type": "execute_result"
    }
   ],
   "source": [
    "diff(M, x)"
   ]
  },
  {
   "cell_type": "code",
   "execution_count": 35,
   "metadata": {},
   "outputs": [
    {
     "data": {
      "application/vnd.jupyter.widget-view+json": {
       "model_id": "e6d54c94f5364ffdbc8b978a22990e42",
       "version_major": 2,
       "version_minor": 0
      },
      "image/png": "[encoded data removed]",
      "text/html": [
       "\n",
       "            <div style=\"display: inline-block;\">\n",
       "                <div class=\"jupyter-widgets widget-label\" style=\"text-align: center;\">\n",
       "                    Figure\n",
       "                </div>\n",
       "                <img src='data:image/png;base64,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' width=640.0/>\n",
       "            </div>\n",
       "        "
      ],
      "text/plain": [
       "Canvas(toolbar=Toolbar(toolitems=[('Home', 'Reset original view', 'home', 'home'), ('Back', 'Back to previous …"
      ]
     },
     "metadata": {},
     "output_type": "display_data"
    }
   ],
   "source": [
    "w_plot = w_sol1.subs(constants).subs({C4: 0, L: 1, Q: -1, E: 1, alpha: pi/9})\n",
    "plot(w_plot, (x, 0, 1));"
   ]
  },
  {
   "cell_type": "code",
   "execution_count": null,
   "metadata": {},
   "outputs": [],
   "source": []
  },
  {
   "cell_type": "code",
   "execution_count": null,
   "metadata": {},
   "outputs": [],
   "source": []
  }
 ],
 "metadata": {
  "kernelspec": {
   "display_name": "Python 3 (ipykernel)",
   "language": "python",
   "name": "python3"
  },
  "language_info": {
   "codemirror_mode": {
    "name": "ipython",
    "version": 3
   },
   "file_extension": ".py",
   "mimetype": "text/x-python",
   "name": "python",
   "nbconvert_exporter": "python",
   "pygments_lexer": "ipython3",
   "version": "3.9.7"
  },
  "varInspector": {
   "cols": {
    "lenName": 16,
    "lenType": 16,
    "lenVar": 40
   },
   "kernels_config": {
    "python": {
     "delete_cmd_postfix": "",
     "delete_cmd_prefix": "del ",
     "library": "var_list.py",
     "varRefreshCmd": "print(var_dic_list())"
    },
    "r": {
     "delete_cmd_postfix": ") ",
     "delete_cmd_prefix": "rm(",
     "library": "var_list.r",
     "varRefreshCmd": "cat(var_dic_list()) "
    }
   },
   "types_to_exclude": [
    "module",
    "function",
    "builtin_function_or_method",
    "instance",
    "_Feature"
   ],
   "window_display": false
  }
 },
 "nbformat": 4,
 "nbformat_minor": 4
}
