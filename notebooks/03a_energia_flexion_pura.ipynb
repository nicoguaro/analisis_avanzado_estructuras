{
 "cells": [
  {
   "cell_type": "markdown",
   "id": "d7944b4c-b691-4272-88a9-2b275ce93c34",
   "metadata": {},
   "source": [
    "# Energía en una placa sujeta a flexión pura"
   ]
  },
  {
   "cell_type": "code",
   "execution_count": 1,
   "id": "1c169a6f-58f2-45ff-93b9-71bf5c6e81e7",
   "metadata": {},
   "outputs": [],
   "source": [
    "if 'google.colab' in str(get_ipython()):\n",
    "    %pip install ipympl\n",
    "    from google.colab import output\n",
    "    output.enable_custom_widget_manager()"
   ]
  },
  {
   "cell_type": "code",
   "execution_count": 2,
   "id": "864886d4-f69b-4cb9-96b2-857d12992ad6",
   "metadata": {},
   "outputs": [],
   "source": [
    "%matplotlib widget"
   ]
  },
  {
   "cell_type": "code",
   "execution_count": 3,
   "id": "3a52efcf-995b-499a-af5c-7e3dc7496f63",
   "metadata": {},
   "outputs": [],
   "source": [
    "import numpy as np\n",
    "from sympy import *"
   ]
  },
  {
   "cell_type": "code",
   "execution_count": 4,
   "id": "ee2e6d55-2d50-4e92-8717-9aa1dec1d67e",
   "metadata": {},
   "outputs": [
    {
     "name": "stdout",
     "output_type": "stream",
     "text": [
      "IPython console for SymPy 1.9 (Python 3.9.7-64-bit) (ground types: python)\n",
      "\n",
      "These commands were executed:\n",
      ">>> from __future__ import division\n",
      ">>> from sympy import *\n",
      ">>> x, y, z, t = symbols('x y z t')\n",
      ">>> k, m, n = symbols('k m n', integer=True)\n",
      ">>> f, g, h = symbols('f g h', cls=Function)\n",
      ">>> init_printing()\n",
      "\n",
      "Documentation can be found at https://docs.sympy.org/1.9/\n",
      "\n"
     ]
    }
   ],
   "source": [
    "init_session()"
   ]
  },
  {
   "cell_type": "markdown",
   "id": "38f2c5f5-7e15-424b-8532-ddce6e90a602",
   "metadata": {},
   "source": [
    "Para un problema sujeto a momentos flectores e\n",
    "$M_{xx} = m_1$ y $M_{yy}=m_2$ la solución está\n",
    "dada por\n",
    "\n",
    "\n",
    "$$w = -\\frac{x^2 (m_1 - m_2\\nu) + y^2 (m_2- m_1 \\nu)}{2 D (1 - \\nu^2)}$$"
   ]
  },
  {
   "cell_type": "code",
   "execution_count": 5,
   "id": "f719b12b-0653-4321-a68a-ace9d46ac1ce",
   "metadata": {},
   "outputs": [],
   "source": [
    "m1, m2, D, nu = symbols(\"m1 m2 D nu\")\n",
    "a, b = symbols(\"a b\")"
   ]
  },
  {
   "cell_type": "code",
   "execution_count": 6,
   "id": "aed1ab6f-ce73-45e8-9867-00e0856f61ef",
   "metadata": {},
   "outputs": [
    {
     "data": {
      "image/png": "[encoded data removed]",
      "text/latex": [
       "$\\displaystyle \\frac{- x^{2} \\left(m_{1} - m_{2} \\nu\\right) - y^{2} \\left(- m_{1} \\nu + m_{2}\\right)}{2 D \\left(1 - \\nu^{2}\\right)}$"
      ],
      "text/plain": [
       "   2                2             \n",
       "- x ⋅(m₁ - m₂⋅ν) - y ⋅(-m₁⋅ν + m₂)\n",
       "──────────────────────────────────\n",
       "               ⎛     2⎞           \n",
       "           2⋅D⋅⎝1 - ν ⎠           "
      ]
     },
     "execution_count": 6,
     "metadata": {},
     "output_type": "execute_result"
    }
   ],
   "source": [
    "w = -(x**2*(m1 - m2*nu) + y**2*(m2 - m1*nu))/(2*D*(1 - nu**2))\n",
    "w"
   ]
  },
  {
   "cell_type": "code",
   "execution_count": 7,
   "id": "757703ef-92ea-4372-b2cb-6a3e7dc7ded5",
   "metadata": {},
   "outputs": [],
   "source": [
    "Mxx = m1\n",
    "Myy = m2"
   ]
  },
  {
   "cell_type": "code",
   "execution_count": 8,
   "id": "02749860-0479-4288-8b10-492e279852ff",
   "metadata": {},
   "outputs": [],
   "source": [
    "Kxx = w.diff(x, 2)\n",
    "Kyy = w.diff(y, 2)"
   ]
  },
  {
   "cell_type": "code",
   "execution_count": 9,
   "id": "45e084ac-c316-4810-ac1a-38eafa3afc49",
   "metadata": {},
   "outputs": [],
   "source": [
    "dwdx = w.diff(x)\n",
    "dwdy = w.diff(y)"
   ]
  },
  {
   "cell_type": "code",
   "execution_count": 10,
   "id": "a9e96452-440e-43a6-a159-11eb2aca684b",
   "metadata": {},
   "outputs": [
    {
     "data": {
      "image/png": "[encoded data removed]",
      "text/latex": [
       "$\\displaystyle \\frac{a b \\left(\\frac{m_{1} \\left(m_{1} - m_{2} \\nu\\right)}{D \\left(\\nu^{2} - 1\\right)} - \\frac{m_{2} \\left(m_{1} \\nu - m_{2}\\right)}{D \\left(\\nu^{2} - 1\\right)}\\right)}{2}$"
      ],
      "text/plain": [
       "    ⎛m₁⋅(m₁ - m₂⋅ν)   m₂⋅(m₁⋅ν - m₂)⎞\n",
       "a⋅b⋅⎜────────────── - ──────────────⎟\n",
       "    ⎜    ⎛ 2    ⎞         ⎛ 2    ⎞  ⎟\n",
       "    ⎝  D⋅⎝ν  - 1⎠       D⋅⎝ν  - 1⎠  ⎠\n",
       "─────────────────────────────────────\n",
       "                  2                  "
      ]
     },
     "execution_count": 10,
     "metadata": {},
     "output_type": "execute_result"
    }
   ],
   "source": [
    "U = integrate(Mxx*Kxx + Myy*Kyy, (x, -a/2, a/2), (y, -b/2, b/2))/2\n",
    "U"
   ]
  },
  {
   "cell_type": "code",
   "execution_count": 11,
   "id": "ac415a11-7dc3-4fe2-849d-335e93d78fec",
   "metadata": {},
   "outputs": [
    {
     "data": {
      "image/png": "[encoded data removed]",
      "text/latex": [
       "$\\displaystyle - \\frac{a b m_{1} \\left(m_{1} - m_{2} \\nu\\right)}{D \\left(1 - \\nu^{2}\\right)} + \\frac{a b m_{2} \\left(- m_{1} \\nu + m_{2}\\right)}{D \\left(1 - \\nu^{2}\\right)}$"
      ],
      "text/plain": [
       "  a⋅b⋅m₁⋅(m₁ - m₂⋅ν)   a⋅b⋅m₂⋅(-m₁⋅ν + m₂)\n",
       "- ────────────────── + ───────────────────\n",
       "        ⎛     2⎞              ⎛     2⎞    \n",
       "      D⋅⎝1 - ν ⎠            D⋅⎝1 - ν ⎠    "
      ]
     },
     "execution_count": 11,
     "metadata": {},
     "output_type": "execute_result"
    }
   ],
   "source": [
    "Ω = 2*integrate(m1*dwdx.subs(x, a/2), (y, -b/2, b/2))\\\n",
    "  - 2*integrate(m2*dwdy.subs(y, b/2), (x, -a/2, a/2))\n",
    "Ω"
   ]
  },
  {
   "cell_type": "code",
   "execution_count": 12,
   "id": "612c5941-a4b6-4f42-bbd4-be678bd6b7c2",
   "metadata": {},
   "outputs": [
    {
     "data": {
      "image/png": "[encoded data removed]",
      "text/latex": [
       "$\\displaystyle \\frac{a b \\left(\\frac{m_{1} \\left(m_{1} - m_{2} \\nu\\right)}{D \\left(\\nu^{2} - 1\\right)} - \\frac{m_{2} \\left(m_{1} \\nu - m_{2}\\right)}{D \\left(\\nu^{2} - 1\\right)}\\right)}{2} + \\frac{a b m_{1} \\left(m_{1} - m_{2} \\nu\\right)}{D \\left(1 - \\nu^{2}\\right)} - \\frac{a b m_{2} \\left(- m_{1} \\nu + m_{2}\\right)}{D \\left(1 - \\nu^{2}\\right)}$"
      ],
      "text/plain": [
       "    ⎛m₁⋅(m₁ - m₂⋅ν)   m₂⋅(m₁⋅ν - m₂)⎞                                         \n",
       "a⋅b⋅⎜────────────── - ──────────────⎟                                         \n",
       "    ⎜    ⎛ 2    ⎞         ⎛ 2    ⎞  ⎟                                         \n",
       "    ⎝  D⋅⎝ν  - 1⎠       D⋅⎝ν  - 1⎠  ⎠   a⋅b⋅m₁⋅(m₁ - m₂⋅ν)   a⋅b⋅m₂⋅(-m₁⋅ν + m\n",
       "───────────────────────────────────── + ────────────────── - ─────────────────\n",
       "                  2                           ⎛     2⎞              ⎛     2⎞  \n",
       "                                            D⋅⎝1 - ν ⎠            D⋅⎝1 - ν ⎠  \n",
       "\n",
       "  \n",
       "  \n",
       "  \n",
       "₂)\n",
       "──\n",
       "  \n",
       "  "
      ]
     },
     "execution_count": 12,
     "metadata": {},
     "output_type": "execute_result"
    }
   ],
   "source": [
    "Π = U - Ω\n",
    "Π"
   ]
  },
  {
   "cell_type": "code",
   "execution_count": 13,
   "id": "31ad1a43-df04-49c2-9e18-a7fe0ebd4dd3",
   "metadata": {},
   "outputs": [
    {
     "data": {
      "image/png": "[encoded data removed]",
      "text/latex": [
       "$\\displaystyle \\frac{a b \\left(- m_{1}^{2} - 2 m_{1} m_{2} \\nu + 3 m_{2}^{2}\\right)}{2 D \\left(\\nu^{2} - 1\\right)}$"
      ],
      "text/plain": [
       "    ⎛    2                   2⎞\n",
       "a⋅b⋅⎝- m₁  - 2⋅m₁⋅m₂⋅ν + 3⋅m₂ ⎠\n",
       "───────────────────────────────\n",
       "              ⎛ 2    ⎞         \n",
       "          2⋅D⋅⎝ν  - 1⎠         "
      ]
     },
     "execution_count": 13,
     "metadata": {},
     "output_type": "execute_result"
    }
   ],
   "source": [
    "simplify(Π)"
   ]
  },
  {
   "cell_type": "code",
   "execution_count": 14,
   "id": "a0d05cec-8911-4c44-aaea-131e4f988ac3",
   "metadata": {},
   "outputs": [
    {
     "data": {
      "image/png": "[encoded data removed]",
      "text/latex": [
       "$\\displaystyle \\frac{a b m_{2}^{2}}{D \\left(\\nu - 1\\right)}$"
      ],
      "text/plain": [
       "       2 \n",
       " a⋅b⋅m₂  \n",
       "─────────\n",
       "D⋅(ν - 1)"
      ]
     },
     "execution_count": 14,
     "metadata": {},
     "output_type": "execute_result"
    }
   ],
   "source": [
    "simplify(Π.subs(m1, -m2))"
   ]
  },
  {
   "cell_type": "code",
   "execution_count": null,
   "id": "8db17e0e-68aa-4125-a243-ec4079abf324",
   "metadata": {},
   "outputs": [],
   "source": []
  }
 ],
 "metadata": {
  "kernelspec": {
   "display_name": "Python 3 (ipykernel)",
   "language": "python",
   "name": "python3"
  },
  "language_info": {
   "codemirror_mode": {
    "name": "ipython",
    "version": 3
   },
   "file_extension": ".py",
   "mimetype": "text/x-python",
   "name": "python",
   "nbconvert_exporter": "python",
   "pygments_lexer": "ipython3",
   "version": "3.9.7"
  }
 },
 "nbformat": 4,
 "nbformat_minor": 5
}
